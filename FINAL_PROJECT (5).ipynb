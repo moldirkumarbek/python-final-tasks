{
 "cells": [
  {
   "cell_type": "markdown",
   "metadata": {},
   "source": [
    "### Data Science Programming 2\n",
    "\n",
    "# Final Project \n",
    "(BD-2005: Moldir Kumarbek, Aiym Yermakhan, Baizhigitova Maryam)"
   ]
  },
  {
   "cell_type": "markdown",
   "metadata": {},
   "source": [
    "## Tasks:\n",
    "### Task 1 - Classification with prepared dataset (75% of mark)\n",
    "### Task 2 - Clustering with any dataset (25% of mark)"
   ]
  },
  {
   "cell_type": "markdown",
   "metadata": {},
   "source": [
    "## Marking scheme \n",
    "For Final:\n",
    "1. Data and task presentation - 10%\n",
    "2. Data Preprocessing - 20%\n",
    "3. Model (variety, complexity, tunning) - 20%\n",
    "4. Imbalance (approaching this issue) - 20%\n",
    "5. Code quality - 10%\n",
    "6. Results and Defence - 20%\n",
    "\n",
    "*Note: add comments and description of the approaches that you use, for example, for resolving the problem of imbalanced data. Write descriptions of techniques that you apply, and you should understand them as well.*"
   ]
  },
  {
   "cell_type": "markdown",
   "metadata": {},
   "source": [
    "## Task 1:\n",
    "Мы постоянно работаем над улучшением качества своих продуктов и услуг для роста абонентской базы и минимизации оттока. В своей работе мы используем персональный подход к абонентам.\n",
    "Для снижения оттока компания использует разные каналы коммуникации с клиентами. Каждое предложение должно быть адресовано определенной целевой группе. В этом задании вам предстоит по имеющимся данным попытаться определить абонентов, которые уйдут в отток.\n",
    "\n",
    "**Что имеем**\n",
    "\n",
    "Анонимизированные данные об абонентах: язык обслуживания абонента, тарифный план, информация об объёмах потребления различных услуг оператора и другие.\n",
    "В файле data.csv содержится информация для построения модели.\n",
    "Формат строк: 3 категориальных признака (C1, C2, C3), 23 числовых признака (N1, …, N23) и целевая переменная — TARGET.\n",
    "\n",
    "**Что делать**\n",
    "\n",
    "Описать этапы построения модели, построить модель, оценить ее и рассказать бизнесу как ее применять, то есть нужна бизнес-интерпретация. \n",
    "\n",
    "*Note: this is how the task was originally structured, you can use it as a guidance.*"
   ]
  },
  {
   "cell_type": "code",
   "execution_count": 1,
   "metadata": {},
   "outputs": [],
   "source": [
    "import pandas as pd"
   ]
  },
  {
   "cell_type": "markdown",
   "metadata": {},
   "source": [
    "# Data Presentation"
   ]
  },
  {
   "cell_type": "code",
   "execution_count": 2,
   "metadata": {},
   "outputs": [
    {
     "data": {
      "text/html": [
       "<div>\n",
       "<style scoped>\n",
       "    .dataframe tbody tr th:only-of-type {\n",
       "        vertical-align: middle;\n",
       "    }\n",
       "\n",
       "    .dataframe tbody tr th {\n",
       "        vertical-align: top;\n",
       "    }\n",
       "\n",
       "    .dataframe thead th {\n",
       "        text-align: right;\n",
       "    }\n",
       "</style>\n",
       "<table border=\"1\" class=\"dataframe\">\n",
       "  <thead>\n",
       "    <tr style=\"text-align: right;\">\n",
       "      <th></th>\n",
       "      <th>C1</th>\n",
       "      <th>C2</th>\n",
       "      <th>C3</th>\n",
       "      <th>N1</th>\n",
       "      <th>N2</th>\n",
       "      <th>N3</th>\n",
       "      <th>N4</th>\n",
       "      <th>N5</th>\n",
       "      <th>N6</th>\n",
       "      <th>N7</th>\n",
       "      <th>...</th>\n",
       "      <th>N15</th>\n",
       "      <th>N16</th>\n",
       "      <th>N17</th>\n",
       "      <th>N18</th>\n",
       "      <th>N19</th>\n",
       "      <th>N20</th>\n",
       "      <th>N21</th>\n",
       "      <th>N22</th>\n",
       "      <th>N23</th>\n",
       "      <th>TARGET</th>\n",
       "    </tr>\n",
       "  </thead>\n",
       "  <tbody>\n",
       "    <tr>\n",
       "      <th>0</th>\n",
       "      <td>3139363536333839</td>\n",
       "      <td>323531</td>\n",
       "      <td>33</td>\n",
       "      <td>83.74</td>\n",
       "      <td>3172.92</td>\n",
       "      <td>181.48</td>\n",
       "      <td>24.83</td>\n",
       "      <td>9.60</td>\n",
       "      <td>0.00</td>\n",
       "      <td>0.00</td>\n",
       "      <td>...</td>\n",
       "      <td>7</td>\n",
       "      <td>0</td>\n",
       "      <td>0</td>\n",
       "      <td>36</td>\n",
       "      <td>7</td>\n",
       "      <td>36</td>\n",
       "      <td>7</td>\n",
       "      <td>0</td>\n",
       "      <td>0</td>\n",
       "      <td>0</td>\n",
       "    </tr>\n",
       "    <tr>\n",
       "      <th>1</th>\n",
       "      <td>3437333830323633</td>\n",
       "      <td>343835</td>\n",
       "      <td>31</td>\n",
       "      <td>1.46</td>\n",
       "      <td>1273.88</td>\n",
       "      <td>92.11</td>\n",
       "      <td>211.78</td>\n",
       "      <td>28.98</td>\n",
       "      <td>5.75</td>\n",
       "      <td>13.85</td>\n",
       "      <td>...</td>\n",
       "      <td>18</td>\n",
       "      <td>5</td>\n",
       "      <td>6</td>\n",
       "      <td>52</td>\n",
       "      <td>12</td>\n",
       "      <td>57</td>\n",
       "      <td>18</td>\n",
       "      <td>0</td>\n",
       "      <td>0</td>\n",
       "      <td>0</td>\n",
       "    </tr>\n",
       "    <tr>\n",
       "      <th>2</th>\n",
       "      <td>3134323931353339</td>\n",
       "      <td>323531</td>\n",
       "      <td>33</td>\n",
       "      <td>0.00</td>\n",
       "      <td>31.95</td>\n",
       "      <td>763.19</td>\n",
       "      <td>48.13</td>\n",
       "      <td>77.22</td>\n",
       "      <td>9.33</td>\n",
       "      <td>4.90</td>\n",
       "      <td>...</td>\n",
       "      <td>24</td>\n",
       "      <td>18</td>\n",
       "      <td>6</td>\n",
       "      <td>46</td>\n",
       "      <td>18</td>\n",
       "      <td>64</td>\n",
       "      <td>24</td>\n",
       "      <td>0</td>\n",
       "      <td>0</td>\n",
       "      <td>0</td>\n",
       "    </tr>\n",
       "    <tr>\n",
       "      <th>3</th>\n",
       "      <td>3431333831343031</td>\n",
       "      <td>343433</td>\n",
       "      <td>31</td>\n",
       "      <td>117.49</td>\n",
       "      <td>529.19</td>\n",
       "      <td>1506.40</td>\n",
       "      <td>127.67</td>\n",
       "      <td>49.30</td>\n",
       "      <td>6.25</td>\n",
       "      <td>0.20</td>\n",
       "      <td>...</td>\n",
       "      <td>57</td>\n",
       "      <td>4</td>\n",
       "      <td>1</td>\n",
       "      <td>142</td>\n",
       "      <td>56</td>\n",
       "      <td>148</td>\n",
       "      <td>57</td>\n",
       "      <td>0</td>\n",
       "      <td>0</td>\n",
       "      <td>0</td>\n",
       "    </tr>\n",
       "    <tr>\n",
       "      <th>4</th>\n",
       "      <td>3233343933313234</td>\n",
       "      <td>343835</td>\n",
       "      <td>31</td>\n",
       "      <td>0.00</td>\n",
       "      <td>38.24</td>\n",
       "      <td>3493.18</td>\n",
       "      <td>389.98</td>\n",
       "      <td>72.78</td>\n",
       "      <td>16.72</td>\n",
       "      <td>4.28</td>\n",
       "      <td>...</td>\n",
       "      <td>28</td>\n",
       "      <td>17</td>\n",
       "      <td>5</td>\n",
       "      <td>69</td>\n",
       "      <td>23</td>\n",
       "      <td>86</td>\n",
       "      <td>28</td>\n",
       "      <td>0</td>\n",
       "      <td>0</td>\n",
       "      <td>0</td>\n",
       "    </tr>\n",
       "  </tbody>\n",
       "</table>\n",
       "<p>5 rows × 27 columns</p>\n",
       "</div>"
      ],
      "text/plain": [
       "                 C1      C2  C3      N1       N2       N3      N4     N5  \\\n",
       "0  3139363536333839  323531  33   83.74  3172.92   181.48   24.83   9.60   \n",
       "1  3437333830323633  343835  31    1.46  1273.88    92.11  211.78  28.98   \n",
       "2  3134323931353339  323531  33    0.00    31.95   763.19   48.13  77.22   \n",
       "3  3431333831343031  343433  31  117.49   529.19  1506.40  127.67  49.30   \n",
       "4  3233343933313234  343835  31    0.00    38.24  3493.18  389.98  72.78   \n",
       "\n",
       "      N6     N7  ...  N15  N16  N17  N18  N19  N20  N21  N22  N23  TARGET  \n",
       "0   0.00   0.00  ...    7    0    0   36    7   36    7    0    0       0  \n",
       "1   5.75  13.85  ...   18    5    6   52   12   57   18    0    0       0  \n",
       "2   9.33   4.90  ...   24   18    6   46   18   64   24    0    0       0  \n",
       "3   6.25   0.20  ...   57    4    1  142   56  148   57    0    0       0  \n",
       "4  16.72   4.28  ...   28   17    5   69   23   86   28    0    0       0  \n",
       "\n",
       "[5 rows x 27 columns]"
      ]
     },
     "execution_count": 2,
     "metadata": {},
     "output_type": "execute_result"
    }
   ],
   "source": [
    "df = pd.read_csv('task1.csv', sep=';', decimal=\",\")\n",
    "df.head()"
   ]
  },
  {
   "cell_type": "code",
   "execution_count": 3,
   "metadata": {},
   "outputs": [
    {
     "data": {
      "text/plain": [
       "(514009, 27)"
      ]
     },
     "execution_count": 3,
     "metadata": {},
     "output_type": "execute_result"
    }
   ],
   "source": [
    "df.shape"
   ]
  },
  {
   "cell_type": "code",
   "execution_count": 4,
   "metadata": {},
   "outputs": [
    {
     "name": "stdout",
     "output_type": "stream",
     "text": [
      "<class 'pandas.core.frame.DataFrame'>\n",
      "RangeIndex: 514009 entries, 0 to 514008\n",
      "Data columns (total 27 columns):\n",
      " #   Column  Non-Null Count   Dtype  \n",
      "---  ------  --------------   -----  \n",
      " 0   C1      514009 non-null  int64  \n",
      " 1   C2      514009 non-null  int64  \n",
      " 2   C3      514009 non-null  int64  \n",
      " 3   N1      514009 non-null  float64\n",
      " 4   N2      514009 non-null  float64\n",
      " 5   N3      514009 non-null  float64\n",
      " 6   N4      514009 non-null  float64\n",
      " 7   N5      514009 non-null  float64\n",
      " 8   N6      514009 non-null  float64\n",
      " 9   N7      514009 non-null  float64\n",
      " 10  N8      514009 non-null  float64\n",
      " 11  N9      514009 non-null  float64\n",
      " 12  N10     514009 non-null  float64\n",
      " 13  N11     514009 non-null  float64\n",
      " 14  N12     514009 non-null  float64\n",
      " 15  N13     514009 non-null  float64\n",
      " 16  N14     514009 non-null  int64  \n",
      " 17  N15     514009 non-null  int64  \n",
      " 18  N16     514009 non-null  int64  \n",
      " 19  N17     514009 non-null  int64  \n",
      " 20  N18     514009 non-null  int64  \n",
      " 21  N19     514009 non-null  int64  \n",
      " 22  N20     514009 non-null  int64  \n",
      " 23  N21     514009 non-null  int64  \n",
      " 24  N22     514009 non-null  int64  \n",
      " 25  N23     514009 non-null  int64  \n",
      " 26  TARGET  514009 non-null  int64  \n",
      "dtypes: float64(13), int64(14)\n",
      "memory usage: 105.9 MB\n"
     ]
    }
   ],
   "source": [
    "df.info()"
   ]
  },
  {
   "cell_type": "code",
   "execution_count": 5,
   "metadata": {},
   "outputs": [
    {
     "data": {
      "text/html": [
       "<div>\n",
       "<style scoped>\n",
       "    .dataframe tbody tr th:only-of-type {\n",
       "        vertical-align: middle;\n",
       "    }\n",
       "\n",
       "    .dataframe tbody tr th {\n",
       "        vertical-align: top;\n",
       "    }\n",
       "\n",
       "    .dataframe thead th {\n",
       "        text-align: right;\n",
       "    }\n",
       "</style>\n",
       "<table border=\"1\" class=\"dataframe\">\n",
       "  <thead>\n",
       "    <tr style=\"text-align: right;\">\n",
       "      <th></th>\n",
       "      <th>C1</th>\n",
       "      <th>C2</th>\n",
       "      <th>C3</th>\n",
       "      <th>N1</th>\n",
       "      <th>N2</th>\n",
       "      <th>N3</th>\n",
       "      <th>N4</th>\n",
       "      <th>N5</th>\n",
       "      <th>N6</th>\n",
       "      <th>N7</th>\n",
       "      <th>...</th>\n",
       "      <th>N15</th>\n",
       "      <th>N16</th>\n",
       "      <th>N17</th>\n",
       "      <th>N18</th>\n",
       "      <th>N19</th>\n",
       "      <th>N20</th>\n",
       "      <th>N21</th>\n",
       "      <th>N22</th>\n",
       "      <th>N23</th>\n",
       "      <th>TARGET</th>\n",
       "    </tr>\n",
       "  </thead>\n",
       "  <tbody>\n",
       "    <tr>\n",
       "      <th>0</th>\n",
       "      <td>3139363536333839</td>\n",
       "      <td>323531</td>\n",
       "      <td>33</td>\n",
       "      <td>83.74</td>\n",
       "      <td>3172.92</td>\n",
       "      <td>181.48</td>\n",
       "      <td>24.83</td>\n",
       "      <td>9.60</td>\n",
       "      <td>0.00</td>\n",
       "      <td>0.00</td>\n",
       "      <td>...</td>\n",
       "      <td>7</td>\n",
       "      <td>0</td>\n",
       "      <td>0</td>\n",
       "      <td>36</td>\n",
       "      <td>7</td>\n",
       "      <td>36</td>\n",
       "      <td>7</td>\n",
       "      <td>0</td>\n",
       "      <td>0</td>\n",
       "      <td>0</td>\n",
       "    </tr>\n",
       "    <tr>\n",
       "      <th>1</th>\n",
       "      <td>3437333830323633</td>\n",
       "      <td>343835</td>\n",
       "      <td>31</td>\n",
       "      <td>1.46</td>\n",
       "      <td>1273.88</td>\n",
       "      <td>92.11</td>\n",
       "      <td>211.78</td>\n",
       "      <td>28.98</td>\n",
       "      <td>5.75</td>\n",
       "      <td>13.85</td>\n",
       "      <td>...</td>\n",
       "      <td>18</td>\n",
       "      <td>5</td>\n",
       "      <td>6</td>\n",
       "      <td>52</td>\n",
       "      <td>12</td>\n",
       "      <td>57</td>\n",
       "      <td>18</td>\n",
       "      <td>0</td>\n",
       "      <td>0</td>\n",
       "      <td>0</td>\n",
       "    </tr>\n",
       "    <tr>\n",
       "      <th>2</th>\n",
       "      <td>3134323931353339</td>\n",
       "      <td>323531</td>\n",
       "      <td>33</td>\n",
       "      <td>0.00</td>\n",
       "      <td>31.95</td>\n",
       "      <td>763.19</td>\n",
       "      <td>48.13</td>\n",
       "      <td>77.22</td>\n",
       "      <td>9.33</td>\n",
       "      <td>4.90</td>\n",
       "      <td>...</td>\n",
       "      <td>24</td>\n",
       "      <td>18</td>\n",
       "      <td>6</td>\n",
       "      <td>46</td>\n",
       "      <td>18</td>\n",
       "      <td>64</td>\n",
       "      <td>24</td>\n",
       "      <td>0</td>\n",
       "      <td>0</td>\n",
       "      <td>0</td>\n",
       "    </tr>\n",
       "    <tr>\n",
       "      <th>3</th>\n",
       "      <td>3431333831343031</td>\n",
       "      <td>343433</td>\n",
       "      <td>31</td>\n",
       "      <td>117.49</td>\n",
       "      <td>529.19</td>\n",
       "      <td>1506.40</td>\n",
       "      <td>127.67</td>\n",
       "      <td>49.30</td>\n",
       "      <td>6.25</td>\n",
       "      <td>0.20</td>\n",
       "      <td>...</td>\n",
       "      <td>57</td>\n",
       "      <td>4</td>\n",
       "      <td>1</td>\n",
       "      <td>142</td>\n",
       "      <td>56</td>\n",
       "      <td>148</td>\n",
       "      <td>57</td>\n",
       "      <td>0</td>\n",
       "      <td>0</td>\n",
       "      <td>0</td>\n",
       "    </tr>\n",
       "    <tr>\n",
       "      <th>4</th>\n",
       "      <td>3233343933313234</td>\n",
       "      <td>343835</td>\n",
       "      <td>31</td>\n",
       "      <td>0.00</td>\n",
       "      <td>38.24</td>\n",
       "      <td>3493.18</td>\n",
       "      <td>389.98</td>\n",
       "      <td>72.78</td>\n",
       "      <td>16.72</td>\n",
       "      <td>4.28</td>\n",
       "      <td>...</td>\n",
       "      <td>28</td>\n",
       "      <td>17</td>\n",
       "      <td>5</td>\n",
       "      <td>69</td>\n",
       "      <td>23</td>\n",
       "      <td>86</td>\n",
       "      <td>28</td>\n",
       "      <td>0</td>\n",
       "      <td>0</td>\n",
       "      <td>0</td>\n",
       "    </tr>\n",
       "    <tr>\n",
       "      <th>...</th>\n",
       "      <td>...</td>\n",
       "      <td>...</td>\n",
       "      <td>...</td>\n",
       "      <td>...</td>\n",
       "      <td>...</td>\n",
       "      <td>...</td>\n",
       "      <td>...</td>\n",
       "      <td>...</td>\n",
       "      <td>...</td>\n",
       "      <td>...</td>\n",
       "      <td>...</td>\n",
       "      <td>...</td>\n",
       "      <td>...</td>\n",
       "      <td>...</td>\n",
       "      <td>...</td>\n",
       "      <td>...</td>\n",
       "      <td>...</td>\n",
       "      <td>...</td>\n",
       "      <td>...</td>\n",
       "      <td>...</td>\n",
       "      <td>...</td>\n",
       "    </tr>\n",
       "    <tr>\n",
       "      <th>514000</th>\n",
       "      <td>3530363934383336</td>\n",
       "      <td>313339</td>\n",
       "      <td>31</td>\n",
       "      <td>0.00</td>\n",
       "      <td>0.00</td>\n",
       "      <td>0.00</td>\n",
       "      <td>0.00</td>\n",
       "      <td>1.68</td>\n",
       "      <td>0.00</td>\n",
       "      <td>0.00</td>\n",
       "      <td>...</td>\n",
       "      <td>1</td>\n",
       "      <td>0</td>\n",
       "      <td>0</td>\n",
       "      <td>0</td>\n",
       "      <td>1</td>\n",
       "      <td>0</td>\n",
       "      <td>1</td>\n",
       "      <td>0</td>\n",
       "      <td>0</td>\n",
       "      <td>0</td>\n",
       "    </tr>\n",
       "    <tr>\n",
       "      <th>514003</th>\n",
       "      <td>3533363433373937</td>\n",
       "      <td>313339</td>\n",
       "      <td>31</td>\n",
       "      <td>0.00</td>\n",
       "      <td>0.00</td>\n",
       "      <td>0.00</td>\n",
       "      <td>0.00</td>\n",
       "      <td>0.00</td>\n",
       "      <td>0.00</td>\n",
       "      <td>0.00</td>\n",
       "      <td>...</td>\n",
       "      <td>0</td>\n",
       "      <td>0</td>\n",
       "      <td>0</td>\n",
       "      <td>0</td>\n",
       "      <td>0</td>\n",
       "      <td>0</td>\n",
       "      <td>0</td>\n",
       "      <td>0</td>\n",
       "      <td>0</td>\n",
       "      <td>0</td>\n",
       "    </tr>\n",
       "    <tr>\n",
       "      <th>514005</th>\n",
       "      <td>3335363533383731</td>\n",
       "      <td>313339</td>\n",
       "      <td>31</td>\n",
       "      <td>0.00</td>\n",
       "      <td>0.00</td>\n",
       "      <td>0.00</td>\n",
       "      <td>0.00</td>\n",
       "      <td>0.12</td>\n",
       "      <td>0.00</td>\n",
       "      <td>0.12</td>\n",
       "      <td>...</td>\n",
       "      <td>1</td>\n",
       "      <td>0</td>\n",
       "      <td>1</td>\n",
       "      <td>0</td>\n",
       "      <td>0</td>\n",
       "      <td>0</td>\n",
       "      <td>1</td>\n",
       "      <td>0</td>\n",
       "      <td>0</td>\n",
       "      <td>0</td>\n",
       "    </tr>\n",
       "    <tr>\n",
       "      <th>514006</th>\n",
       "      <td>3535343831313531</td>\n",
       "      <td>343637</td>\n",
       "      <td>31</td>\n",
       "      <td>0.00</td>\n",
       "      <td>0.00</td>\n",
       "      <td>0.00</td>\n",
       "      <td>0.00</td>\n",
       "      <td>1.27</td>\n",
       "      <td>0.00</td>\n",
       "      <td>1.27</td>\n",
       "      <td>...</td>\n",
       "      <td>1</td>\n",
       "      <td>0</td>\n",
       "      <td>1</td>\n",
       "      <td>0</td>\n",
       "      <td>0</td>\n",
       "      <td>0</td>\n",
       "      <td>1</td>\n",
       "      <td>0</td>\n",
       "      <td>0</td>\n",
       "      <td>0</td>\n",
       "    </tr>\n",
       "    <tr>\n",
       "      <th>514008</th>\n",
       "      <td>3334313139353932</td>\n",
       "      <td>343038</td>\n",
       "      <td>31</td>\n",
       "      <td>0.00</td>\n",
       "      <td>0.00</td>\n",
       "      <td>0.00</td>\n",
       "      <td>0.00</td>\n",
       "      <td>0.00</td>\n",
       "      <td>0.00</td>\n",
       "      <td>0.00</td>\n",
       "      <td>...</td>\n",
       "      <td>0</td>\n",
       "      <td>0</td>\n",
       "      <td>0</td>\n",
       "      <td>0</td>\n",
       "      <td>0</td>\n",
       "      <td>0</td>\n",
       "      <td>0</td>\n",
       "      <td>0</td>\n",
       "      <td>0</td>\n",
       "      <td>0</td>\n",
       "    </tr>\n",
       "  </tbody>\n",
       "</table>\n",
       "<p>377326 rows × 27 columns</p>\n",
       "</div>"
      ],
      "text/plain": [
       "                      C1      C2  C3      N1       N2       N3      N4     N5  \\\n",
       "0       3139363536333839  323531  33   83.74  3172.92   181.48   24.83   9.60   \n",
       "1       3437333830323633  343835  31    1.46  1273.88    92.11  211.78  28.98   \n",
       "2       3134323931353339  323531  33    0.00    31.95   763.19   48.13  77.22   \n",
       "3       3431333831343031  343433  31  117.49   529.19  1506.40  127.67  49.30   \n",
       "4       3233343933313234  343835  31    0.00    38.24  3493.18  389.98  72.78   \n",
       "...                  ...     ...  ..     ...      ...      ...     ...    ...   \n",
       "514000  3530363934383336  313339  31    0.00     0.00     0.00    0.00   1.68   \n",
       "514003  3533363433373937  313339  31    0.00     0.00     0.00    0.00   0.00   \n",
       "514005  3335363533383731  313339  31    0.00     0.00     0.00    0.00   0.12   \n",
       "514006  3535343831313531  343637  31    0.00     0.00     0.00    0.00   1.27   \n",
       "514008  3334313139353932  343038  31    0.00     0.00     0.00    0.00   0.00   \n",
       "\n",
       "           N6     N7  ...  N15  N16  N17  N18  N19  N20  N21  N22  N23  TARGET  \n",
       "0        0.00   0.00  ...    7    0    0   36    7   36    7    0    0       0  \n",
       "1        5.75  13.85  ...   18    5    6   52   12   57   18    0    0       0  \n",
       "2        9.33   4.90  ...   24   18    6   46   18   64   24    0    0       0  \n",
       "3        6.25   0.20  ...   57    4    1  142   56  148   57    0    0       0  \n",
       "4       16.72   4.28  ...   28   17    5   69   23   86   28    0    0       0  \n",
       "...       ...    ...  ...  ...  ...  ...  ...  ...  ...  ...  ...  ...     ...  \n",
       "514000   0.00   0.00  ...    1    0    0    0    1    0    1    0    0       0  \n",
       "514003   0.00   0.00  ...    0    0    0    0    0    0    0    0    0       0  \n",
       "514005   0.00   0.12  ...    1    0    1    0    0    0    1    0    0       0  \n",
       "514006   0.00   1.27  ...    1    0    1    0    0    0    1    0    0       0  \n",
       "514008   0.00   0.00  ...    0    0    0    0    0    0    0    0    0       0  \n",
       "\n",
       "[377326 rows x 27 columns]"
      ]
     },
     "execution_count": 5,
     "metadata": {},
     "output_type": "execute_result"
    }
   ],
   "source": [
    "from scipy import stats\n",
    "import numpy as np\n",
    "df[(np.abs(stats.zscore(df)) < 3).all(axis=1)]"
   ]
  },
  {
   "cell_type": "markdown",
   "metadata": {},
   "source": [
    "# Imbalance"
   ]
  },
  {
   "cell_type": "code",
   "execution_count": 6,
   "metadata": {},
   "outputs": [
    {
     "data": {
      "text/plain": [
       "0    488665\n",
       "1     25344\n",
       "Name: TARGET, dtype: int64"
      ]
     },
     "execution_count": 6,
     "metadata": {},
     "output_type": "execute_result"
    }
   ],
   "source": [
    "df['TARGET'].value_counts()"
   ]
  },
  {
   "cell_type": "code",
   "execution_count": 7,
   "metadata": {},
   "outputs": [
    {
     "data": {
      "text/plain": [
       "0.05"
      ]
     },
     "execution_count": 7,
     "metadata": {},
     "output_type": "execute_result"
    }
   ],
   "source": [
    "np.round(df['TARGET'].value_counts()[1]/len(df),2)"
   ]
  },
  {
   "cell_type": "code",
   "execution_count": 8,
   "metadata": {},
   "outputs": [
    {
     "name": "stderr",
     "output_type": "stream",
     "text": [
      "/Users/aliluabk/opt/anaconda3/lib/python3.8/site-packages/seaborn/_decorators.py:36: FutureWarning: Pass the following variable as a keyword arg: x. From version 0.12, the only valid positional argument will be `data`, and passing other arguments without an explicit keyword will result in an error or misinterpretation.\n",
      "  warnings.warn(\n"
     ]
    },
    {
     "data": {
      "text/plain": [
       "<AxesSubplot:xlabel='TARGET', ylabel='count'>"
      ]
     },
     "execution_count": 8,
     "metadata": {},
     "output_type": "execute_result"
    },
    {
     "data": {
      "image/png": "[encoded data removed]",
      "text/plain": [
       "<Figure size 432x288 with 1 Axes>"
      ]
     },
     "metadata": {
      "needs_background": "light"
     },
     "output_type": "display_data"
    }
   ],
   "source": [
    "import seaborn as sns \n",
    "sns.countplot(df['TARGET'])"
   ]
  },
  {
   "cell_type": "markdown",
   "metadata": {},
   "source": [
    "# Data Preprocessing"
   ]
  },
  {
   "cell_type": "code",
   "execution_count": 9,
   "metadata": {},
   "outputs": [],
   "source": [
    "from sklearn.preprocessing import MinMaxScaler, StandardScaler\n",
    "X = df.drop(columns='TARGET')\n",
    "y = df['TARGET']\n",
    "X = MinMaxScaler().fit(X).transform(X) # Normalization\n",
    "X = StandardScaler().fit(X).transform(X) # Standartization\n",
    "X = pd.DataFrame(X)"
   ]
  },
  {
   "cell_type": "markdown",
   "metadata": {},
   "source": [
    "# Logistic Regression before resampling"
   ]
  },
  {
   "cell_type": "code",
   "execution_count": 10,
   "metadata": {},
   "outputs": [],
   "source": [
    "from sklearn.model_selection import train_test_split\n",
    "X_train, X_test, y_train, y_test = train_test_split(X, y)"
   ]
  },
  {
   "cell_type": "code",
   "execution_count": 11,
   "metadata": {},
   "outputs": [
    {
     "name": "stdout",
     "output_type": "stream",
     "text": [
      "[0.95064298 0.95066244 0.95060407 0.95070135 0.95068189 0.95064298\n",
      " 0.95066244 0.95066244 0.95068189 0.95070039]\n"
     ]
    }
   ],
   "source": [
    "from sklearn.model_selection import cross_val_score\n",
    "from sklearn.linear_model import LogisticRegression\n",
    "print(cross_val_score(LogisticRegression(max_iter=10000), X, y, cv=10))"
   ]
  },
  {
   "cell_type": "code",
   "execution_count": 12,
   "metadata": {},
   "outputs": [
    {
     "name": "stdout",
     "output_type": "stream",
     "text": [
      "Precision: 0.4755099182107532\n",
      "Recall: 0.4999918172965985\n",
      "F-score: 0.4874436600055842\n",
      "Accuracy: 0.9510050349019089\n"
     ]
    }
   ],
   "source": [
    "from sklearn.metrics import precision_recall_fscore_support\n",
    "model = LogisticRegression(max_iter=10000)\n",
    "model.fit(X_train, y_train)\n",
    "y_pred = model.predict(X_test)\n",
    "prf = precision_recall_fscore_support(y_test, y_pred, average='macro')\n",
    "print('Precision:',prf[0])\n",
    "print('Recall:',prf[1])\n",
    "print('F-score:',prf[2])\n",
    "print('Accuracy:',model.score(X_test, y_test))"
   ]
  },
  {
   "cell_type": "markdown",
   "metadata": {},
   "source": [
    "# SGDClassifier"
   ]
  },
  {
   "cell_type": "code",
   "execution_count": null,
   "metadata": {},
   "outputs": [],
   "source": []
  },
  {
   "cell_type": "markdown",
   "metadata": {},
   "source": [
    "## Resampling"
   ]
  },
  {
   "cell_type": "code",
   "execution_count": 13,
   "metadata": {},
   "outputs": [],
   "source": [
    "from sklearn.utils import resample\n",
    "df0 = df[(df['TARGET']==0)]\n",
    "df1 = df[(df['TARGET']==1)]\n",
    "df = pd.concat([resample(df1,replace=True,n_samples=df1.shape[0]),\n",
    "                resample(df0,replace=True,n_samples=df1.shape[0])]) "
   ]
  },
  {
   "cell_type": "code",
   "execution_count": 14,
   "metadata": {},
   "outputs": [
    {
     "data": {
      "text/html": [
       "<div>\n",
       "<style scoped>\n",
       "    .dataframe tbody tr th:only-of-type {\n",
       "        vertical-align: middle;\n",
       "    }\n",
       "\n",
       "    .dataframe tbody tr th {\n",
       "        vertical-align: top;\n",
       "    }\n",
       "\n",
       "    .dataframe thead th {\n",
       "        text-align: right;\n",
       "    }\n",
       "</style>\n",
       "<table border=\"1\" class=\"dataframe\">\n",
       "  <thead>\n",
       "    <tr style=\"text-align: right;\">\n",
       "      <th></th>\n",
       "      <th>0</th>\n",
       "      <th>1</th>\n",
       "      <th>2</th>\n",
       "      <th>3</th>\n",
       "      <th>4</th>\n",
       "      <th>5</th>\n",
       "      <th>6</th>\n",
       "      <th>7</th>\n",
       "      <th>8</th>\n",
       "      <th>9</th>\n",
       "      <th>...</th>\n",
       "      <th>16</th>\n",
       "      <th>17</th>\n",
       "      <th>18</th>\n",
       "      <th>19</th>\n",
       "      <th>20</th>\n",
       "      <th>21</th>\n",
       "      <th>22</th>\n",
       "      <th>23</th>\n",
       "      <th>24</th>\n",
       "      <th>25</th>\n",
       "    </tr>\n",
       "  </thead>\n",
       "  <tbody>\n",
       "    <tr>\n",
       "      <th>0</th>\n",
       "      <td>0.267472</td>\n",
       "      <td>0.319579</td>\n",
       "      <td>-0.573265</td>\n",
       "      <td>-0.138757</td>\n",
       "      <td>-0.324440</td>\n",
       "      <td>-0.430931</td>\n",
       "      <td>-0.411283</td>\n",
       "      <td>-0.485524</td>\n",
       "      <td>-0.462419</td>\n",
       "      <td>-0.456795</td>\n",
       "      <td>...</td>\n",
       "      <td>-0.587243</td>\n",
       "      <td>-0.688878</td>\n",
       "      <td>-0.449081</td>\n",
       "      <td>-0.509353</td>\n",
       "      <td>-0.555150</td>\n",
       "      <td>-0.652365</td>\n",
       "      <td>-0.586465</td>\n",
       "      <td>-0.688413</td>\n",
       "      <td>-0.083818</td>\n",
       "      <td>-0.053491</td>\n",
       "    </tr>\n",
       "    <tr>\n",
       "      <th>1</th>\n",
       "      <td>0.404733</td>\n",
       "      <td>-0.292385</td>\n",
       "      <td>-0.573265</td>\n",
       "      <td>-0.138757</td>\n",
       "      <td>-0.324440</td>\n",
       "      <td>-0.430931</td>\n",
       "      <td>-0.414580</td>\n",
       "      <td>-0.485524</td>\n",
       "      <td>-0.495005</td>\n",
       "      <td>-0.456795</td>\n",
       "      <td>...</td>\n",
       "      <td>-0.606357</td>\n",
       "      <td>-0.688878</td>\n",
       "      <td>-0.526457</td>\n",
       "      <td>-0.509353</td>\n",
       "      <td>-0.555150</td>\n",
       "      <td>-0.652365</td>\n",
       "      <td>-0.605589</td>\n",
       "      <td>-0.688413</td>\n",
       "      <td>-0.083818</td>\n",
       "      <td>-0.053491</td>\n",
       "    </tr>\n",
       "    <tr>\n",
       "      <th>2</th>\n",
       "      <td>0.404789</td>\n",
       "      <td>0.313539</td>\n",
       "      <td>1.744487</td>\n",
       "      <td>-0.138757</td>\n",
       "      <td>-0.324375</td>\n",
       "      <td>-0.430931</td>\n",
       "      <td>-0.414580</td>\n",
       "      <td>-0.206148</td>\n",
       "      <td>-0.495005</td>\n",
       "      <td>-0.235522</td>\n",
       "      <td>...</td>\n",
       "      <td>-0.606357</td>\n",
       "      <td>-0.551381</td>\n",
       "      <td>-0.526457</td>\n",
       "      <td>-0.318574</td>\n",
       "      <td>-0.555150</td>\n",
       "      <td>-0.563198</td>\n",
       "      <td>-0.605589</td>\n",
       "      <td>-0.550861</td>\n",
       "      <td>-0.083818</td>\n",
       "      <td>-0.053491</td>\n",
       "    </tr>\n",
       "    <tr>\n",
       "      <th>3</th>\n",
       "      <td>0.271661</td>\n",
       "      <td>0.317735</td>\n",
       "      <td>-0.573265</td>\n",
       "      <td>-0.138757</td>\n",
       "      <td>-0.324440</td>\n",
       "      <td>-0.430931</td>\n",
       "      <td>-0.414580</td>\n",
       "      <td>-0.485524</td>\n",
       "      <td>-0.495005</td>\n",
       "      <td>-0.456795</td>\n",
       "      <td>...</td>\n",
       "      <td>-0.606357</td>\n",
       "      <td>-0.688878</td>\n",
       "      <td>-0.526457</td>\n",
       "      <td>-0.509353</td>\n",
       "      <td>-0.555150</td>\n",
       "      <td>-0.652365</td>\n",
       "      <td>-0.605589</td>\n",
       "      <td>-0.688413</td>\n",
       "      <td>-0.083818</td>\n",
       "      <td>-0.053491</td>\n",
       "    </tr>\n",
       "    <tr>\n",
       "      <th>4</th>\n",
       "      <td>0.408978</td>\n",
       "      <td>-0.292385</td>\n",
       "      <td>-0.573265</td>\n",
       "      <td>-0.138757</td>\n",
       "      <td>-0.324440</td>\n",
       "      <td>-0.430919</td>\n",
       "      <td>-0.414580</td>\n",
       "      <td>-0.304433</td>\n",
       "      <td>-0.495005</td>\n",
       "      <td>-0.456795</td>\n",
       "      <td>...</td>\n",
       "      <td>-0.606357</td>\n",
       "      <td>-0.310762</td>\n",
       "      <td>-0.526457</td>\n",
       "      <td>-0.509353</td>\n",
       "      <td>-0.555150</td>\n",
       "      <td>-0.161946</td>\n",
       "      <td>-0.605589</td>\n",
       "      <td>-0.310144</td>\n",
       "      <td>-0.083818</td>\n",
       "      <td>-0.053491</td>\n",
       "    </tr>\n",
       "    <tr>\n",
       "      <th>...</th>\n",
       "      <td>...</td>\n",
       "      <td>...</td>\n",
       "      <td>...</td>\n",
       "      <td>...</td>\n",
       "      <td>...</td>\n",
       "      <td>...</td>\n",
       "      <td>...</td>\n",
       "      <td>...</td>\n",
       "      <td>...</td>\n",
       "      <td>...</td>\n",
       "      <td>...</td>\n",
       "      <td>...</td>\n",
       "      <td>...</td>\n",
       "      <td>...</td>\n",
       "      <td>...</td>\n",
       "      <td>...</td>\n",
       "      <td>...</td>\n",
       "      <td>...</td>\n",
       "      <td>...</td>\n",
       "      <td>...</td>\n",
       "      <td>...</td>\n",
       "    </tr>\n",
       "    <tr>\n",
       "      <th>50683</th>\n",
       "      <td>0.131555</td>\n",
       "      <td>0.309627</td>\n",
       "      <td>-0.573265</td>\n",
       "      <td>-0.138757</td>\n",
       "      <td>-0.324440</td>\n",
       "      <td>-0.430931</td>\n",
       "      <td>-0.414580</td>\n",
       "      <td>-0.480222</td>\n",
       "      <td>-0.495005</td>\n",
       "      <td>-0.422221</td>\n",
       "      <td>...</td>\n",
       "      <td>-0.606357</td>\n",
       "      <td>-0.654503</td>\n",
       "      <td>-0.526457</td>\n",
       "      <td>-0.413963</td>\n",
       "      <td>-0.555150</td>\n",
       "      <td>-0.652365</td>\n",
       "      <td>-0.605589</td>\n",
       "      <td>-0.654025</td>\n",
       "      <td>-0.083818</td>\n",
       "      <td>-0.053491</td>\n",
       "    </tr>\n",
       "    <tr>\n",
       "      <th>50684</th>\n",
       "      <td>-0.015558</td>\n",
       "      <td>0.117044</td>\n",
       "      <td>-0.573265</td>\n",
       "      <td>-0.138757</td>\n",
       "      <td>0.403741</td>\n",
       "      <td>-0.430931</td>\n",
       "      <td>-0.225129</td>\n",
       "      <td>-0.378757</td>\n",
       "      <td>-0.495005</td>\n",
       "      <td>-0.325414</td>\n",
       "      <td>...</td>\n",
       "      <td>0.043516</td>\n",
       "      <td>0.204850</td>\n",
       "      <td>-0.526457</td>\n",
       "      <td>-0.223185</td>\n",
       "      <td>0.215947</td>\n",
       "      <td>0.373056</td>\n",
       "      <td>0.044638</td>\n",
       "      <td>0.205676</td>\n",
       "      <td>-0.083818</td>\n",
       "      <td>-0.053491</td>\n",
       "    </tr>\n",
       "    <tr>\n",
       "      <th>50685</th>\n",
       "      <td>0.130167</td>\n",
       "      <td>0.309607</td>\n",
       "      <td>-0.573265</td>\n",
       "      <td>-0.138757</td>\n",
       "      <td>-0.324440</td>\n",
       "      <td>-0.430931</td>\n",
       "      <td>-0.414580</td>\n",
       "      <td>0.381971</td>\n",
       "      <td>-0.495005</td>\n",
       "      <td>-0.456795</td>\n",
       "      <td>...</td>\n",
       "      <td>-0.606357</td>\n",
       "      <td>-0.413884</td>\n",
       "      <td>-0.526457</td>\n",
       "      <td>-0.509353</td>\n",
       "      <td>-0.555150</td>\n",
       "      <td>-0.295697</td>\n",
       "      <td>-0.605589</td>\n",
       "      <td>-0.413308</td>\n",
       "      <td>-0.083818</td>\n",
       "      <td>-0.053491</td>\n",
       "    </tr>\n",
       "    <tr>\n",
       "      <th>50686</th>\n",
       "      <td>0.267471</td>\n",
       "      <td>0.317735</td>\n",
       "      <td>-0.573265</td>\n",
       "      <td>-0.130592</td>\n",
       "      <td>0.817490</td>\n",
       "      <td>-0.430931</td>\n",
       "      <td>0.152395</td>\n",
       "      <td>0.448872</td>\n",
       "      <td>-0.465381</td>\n",
       "      <td>-0.198874</td>\n",
       "      <td>...</td>\n",
       "      <td>0.215541</td>\n",
       "      <td>0.342346</td>\n",
       "      <td>-0.449081</td>\n",
       "      <td>-0.127795</td>\n",
       "      <td>0.397381</td>\n",
       "      <td>0.506807</td>\n",
       "      <td>0.216757</td>\n",
       "      <td>0.343228</td>\n",
       "      <td>-0.083818</td>\n",
       "      <td>-0.053491</td>\n",
       "    </tr>\n",
       "    <tr>\n",
       "      <th>50687</th>\n",
       "      <td>-0.155663</td>\n",
       "      <td>-0.280385</td>\n",
       "      <td>1.744487</td>\n",
       "      <td>-0.138757</td>\n",
       "      <td>-0.324440</td>\n",
       "      <td>-0.430931</td>\n",
       "      <td>0.341726</td>\n",
       "      <td>0.202577</td>\n",
       "      <td>-0.353997</td>\n",
       "      <td>-0.439508</td>\n",
       "      <td>...</td>\n",
       "      <td>0.177313</td>\n",
       "      <td>0.101727</td>\n",
       "      <td>-0.294329</td>\n",
       "      <td>-0.413963</td>\n",
       "      <td>0.306664</td>\n",
       "      <td>0.328473</td>\n",
       "      <td>0.178508</td>\n",
       "      <td>0.102512</td>\n",
       "      <td>-0.083818</td>\n",
       "      <td>-0.053491</td>\n",
       "    </tr>\n",
       "  </tbody>\n",
       "</table>\n",
       "<p>50688 rows × 26 columns</p>\n",
       "</div>"
      ],
      "text/plain": [
       "             0         1         2         3         4         5         6   \\\n",
       "0      0.267472  0.319579 -0.573265 -0.138757 -0.324440 -0.430931 -0.411283   \n",
       "1      0.404733 -0.292385 -0.573265 -0.138757 -0.324440 -0.430931 -0.414580   \n",
       "2      0.404789  0.313539  1.744487 -0.138757 -0.324375 -0.430931 -0.414580   \n",
       "3      0.271661  0.317735 -0.573265 -0.138757 -0.324440 -0.430931 -0.414580   \n",
       "4      0.408978 -0.292385 -0.573265 -0.138757 -0.324440 -0.430919 -0.414580   \n",
       "...         ...       ...       ...       ...       ...       ...       ...   \n",
       "50683  0.131555  0.309627 -0.573265 -0.138757 -0.324440 -0.430931 -0.414580   \n",
       "50684 -0.015558  0.117044 -0.573265 -0.138757  0.403741 -0.430931 -0.225129   \n",
       "50685  0.130167  0.309607 -0.573265 -0.138757 -0.324440 -0.430931 -0.414580   \n",
       "50686  0.267471  0.317735 -0.573265 -0.130592  0.817490 -0.430931  0.152395   \n",
       "50687 -0.155663 -0.280385  1.744487 -0.138757 -0.324440 -0.430931  0.341726   \n",
       "\n",
       "             7         8         9   ...        16        17        18  \\\n",
       "0     -0.485524 -0.462419 -0.456795  ... -0.587243 -0.688878 -0.449081   \n",
       "1     -0.485524 -0.495005 -0.456795  ... -0.606357 -0.688878 -0.526457   \n",
       "2     -0.206148 -0.495005 -0.235522  ... -0.606357 -0.551381 -0.526457   \n",
       "3     -0.485524 -0.495005 -0.456795  ... -0.606357 -0.688878 -0.526457   \n",
       "4     -0.304433 -0.495005 -0.456795  ... -0.606357 -0.310762 -0.526457   \n",
       "...         ...       ...       ...  ...       ...       ...       ...   \n",
       "50683 -0.480222 -0.495005 -0.422221  ... -0.606357 -0.654503 -0.526457   \n",
       "50684 -0.378757 -0.495005 -0.325414  ...  0.043516  0.204850 -0.526457   \n",
       "50685  0.381971 -0.495005 -0.456795  ... -0.606357 -0.413884 -0.526457   \n",
       "50686  0.448872 -0.465381 -0.198874  ...  0.215541  0.342346 -0.449081   \n",
       "50687  0.202577 -0.353997 -0.439508  ...  0.177313  0.101727 -0.294329   \n",
       "\n",
       "             19        20        21        22        23        24        25  \n",
       "0     -0.509353 -0.555150 -0.652365 -0.586465 -0.688413 -0.083818 -0.053491  \n",
       "1     -0.509353 -0.555150 -0.652365 -0.605589 -0.688413 -0.083818 -0.053491  \n",
       "2     -0.318574 -0.555150 -0.563198 -0.605589 -0.550861 -0.083818 -0.053491  \n",
       "3     -0.509353 -0.555150 -0.652365 -0.605589 -0.688413 -0.083818 -0.053491  \n",
       "4     -0.509353 -0.555150 -0.161946 -0.605589 -0.310144 -0.083818 -0.053491  \n",
       "...         ...       ...       ...       ...       ...       ...       ...  \n",
       "50683 -0.413963 -0.555150 -0.652365 -0.605589 -0.654025 -0.083818 -0.053491  \n",
       "50684 -0.223185  0.215947  0.373056  0.044638  0.205676 -0.083818 -0.053491  \n",
       "50685 -0.509353 -0.555150 -0.295697 -0.605589 -0.413308 -0.083818 -0.053491  \n",
       "50686 -0.127795  0.397381  0.506807  0.216757  0.343228 -0.083818 -0.053491  \n",
       "50687 -0.413963  0.306664  0.328473  0.178508  0.102512 -0.083818 -0.053491  \n",
       "\n",
       "[50688 rows x 26 columns]"
      ]
     },
     "execution_count": 14,
     "metadata": {},
     "output_type": "execute_result"
    }
   ],
   "source": [
    "X = df.drop(columns='TARGET')\n",
    "y = df['TARGET']\n",
    "X = MinMaxScaler().fit(X).transform(X) # Normalization\n",
    "X = StandardScaler().fit(X).transform(X) # Standartization\n",
    "X = pd.DataFrame(X)\n",
    "X"
   ]
  },
  {
   "cell_type": "code",
   "execution_count": 15,
   "metadata": {},
   "outputs": [
    {
     "data": {
      "text/plain": [
       "0    25344\n",
       "1    25344\n",
       "Name: TARGET, dtype: int64"
      ]
     },
     "execution_count": 15,
     "metadata": {},
     "output_type": "execute_result"
    }
   ],
   "source": [
    "df['TARGET'].value_counts()"
   ]
  },
  {
   "cell_type": "code",
   "execution_count": 16,
   "metadata": {},
   "outputs": [
    {
     "name": "stderr",
     "output_type": "stream",
     "text": [
      "/Users/aliluabk/opt/anaconda3/lib/python3.8/site-packages/seaborn/_decorators.py:36: FutureWarning: Pass the following variable as a keyword arg: x. From version 0.12, the only valid positional argument will be `data`, and passing other arguments without an explicit keyword will result in an error or misinterpretation.\n",
      "  warnings.warn(\n"
     ]
    },
    {
     "data": {
      "text/plain": [
       "<AxesSubplot:xlabel='TARGET', ylabel='count'>"
      ]
     },
     "execution_count": 16,
     "metadata": {},
     "output_type": "execute_result"
    },
    {
     "data": {
      "image/png": "[encoded data removed]",
      "text/plain": [
       "<Figure size 432x288 with 1 Axes>"
      ]
     },
     "metadata": {
      "needs_background": "light"
     },
     "output_type": "display_data"
    }
   ],
   "source": [
    "import seaborn as sns \n",
    "sns.countplot(df['TARGET'])"
   ]
  },
  {
   "cell_type": "markdown",
   "metadata": {},
   "source": [
    "# Logistic Regression"
   ]
  },
  {
   "cell_type": "code",
   "execution_count": 17,
   "metadata": {},
   "outputs": [],
   "source": [
    "from sklearn.model_selection import train_test_split\n",
    "X_train, X_test, y_train, y_test = train_test_split(X, y)"
   ]
  },
  {
   "cell_type": "code",
   "execution_count": 18,
   "metadata": {},
   "outputs": [
    {
     "name": "stdout",
     "output_type": "stream",
     "text": [
      "[0.75498126 0.74866838 0.74156638 0.74807654 0.74906293 0.7431446\n",
      " 0.75734859 0.74136911 0.74782952 0.74921073]\n"
     ]
    }
   ],
   "source": [
    "print(cross_val_score(LogisticRegression(max_iter=10000), X, y, cv=10))"
   ]
  },
  {
   "cell_type": "code",
   "execution_count": 19,
   "metadata": {},
   "outputs": [
    {
     "name": "stdout",
     "output_type": "stream",
     "text": [
      "Precision: 0.7561712199992434\n",
      "Recall: 0.7482841906401703\n",
      "F-score: 0.7460763844275986\n",
      "Accuracy: 0.7479482323232324\n"
     ]
    }
   ],
   "source": [
    "model = LogisticRegression(max_iter=10000)\n",
    "model.fit(X_train, y_train)\n",
    "y_pred = model.predict(X_test)\n",
    "prf = precision_recall_fscore_support(y_test, y_pred, average='macro')\n",
    "print('Precision:',prf[0])\n",
    "print('Recall:',prf[1])\n",
    "print('F-score:',prf[2])\n",
    "print('Accuracy:',model.score(X_test, y_test))"
   ]
  },
  {
   "cell_type": "markdown",
   "metadata": {},
   "source": [
    "# Hyperparameters Tuning"
   ]
  },
  {
   "cell_type": "code",
   "execution_count": 20,
   "metadata": {},
   "outputs": [],
   "source": [
    "from sklearn.model_selection import GridSearchCV\n",
    "import warnings\n",
    "warnings.filterwarnings('ignore')\n",
    "# parameter grid\n",
    "parameters = {\n",
    "    'penalty' : ['l1','l2'], \n",
    "    'C'       : np.logspace(-3,3,7),\n",
    "    'solver'  : ['newton-cg', 'lbfgs', 'liblinear'],\n",
    "}"
   ]
  },
  {
   "cell_type": "code",
   "execution_count": 21,
   "metadata": {},
   "outputs": [],
   "source": [
    "logreg = LogisticRegression()\n",
    "clf = GridSearchCV(logreg,                    # model\n",
    "                   param_grid = parameters,   # hyperparameters\n",
    "                   scoring='accuracy',        # metric for scoring\n",
    "                   cv=10)                     # number of folds "
   ]
  },
  {
   "cell_type": "code",
   "execution_count": 22,
   "metadata": {},
   "outputs": [
    {
     "data": {
      "text/plain": [
       "GridSearchCV(cv=10, estimator=LogisticRegression(),\n",
       "             param_grid={'C': array([1.e-03, 1.e-02, 1.e-01, 1.e+00, 1.e+01, 1.e+02, 1.e+03]),\n",
       "                         'penalty': ['l1', 'l2'],\n",
       "                         'solver': ['newton-cg', 'lbfgs', 'liblinear']},\n",
       "             scoring='accuracy')"
      ]
     },
     "execution_count": 22,
     "metadata": {},
     "output_type": "execute_result"
    }
   ],
   "source": [
    "clf.fit(X_train,y_train)"
   ]
  },
  {
   "cell_type": "code",
   "execution_count": 23,
   "metadata": {},
   "outputs": [
    {
     "name": "stdout",
     "output_type": "stream",
     "text": [
      "Tuned Hyperparameters : {'C': 0.1, 'penalty': 'l2', 'solver': 'lbfgs'}\n",
      "Accuracy : 0.7482636978751265\n",
      "The history saving thread hit an unexpected error (OperationalError('database or disk is full')).History will not be written to the database.\n"
     ]
    }
   ],
   "source": [
    "print(\"Tuned Hyperparameters :\", clf.best_params_)\n",
    "print(\"Accuracy :\", clf.best_score_)"
   ]
  },
  {
   "cell_type": "code",
   "execution_count": 24,
   "metadata": {},
   "outputs": [
    {
     "name": "stdout",
     "output_type": "stream",
     "text": [
      "Accuracy: 0.7481849747474747\n"
     ]
    }
   ],
   "source": [
    "logreg = LogisticRegression(C = 1000.0, \n",
    "                            penalty = 'l2', \n",
    "                            solver = 'lbfgs')\n",
    "logreg.fit(X_train,y_train)\n",
    "y_pred = logreg.predict(X_test)\n",
    "\n",
    "print(\"Accuracy:\",logreg.score(X_test, y_test))"
   ]
  },
  {
   "cell_type": "markdown",
   "metadata": {},
   "source": [
    "# SGDClassifier (Stochastic gradient descent)\n",
    "Supports multi-class classification by combining multiple binary classifiers in a “one versus all” (OVA) scheme"
   ]
  },
  {
   "cell_type": "code",
   "execution_count": 25,
   "metadata": {},
   "outputs": [
    {
     "name": "stdout",
     "output_type": "stream",
     "text": [
      "Precision: 0.7533228253180935\n",
      "Recall: 0.7433558720137743\n",
      "F-score: 0.7405200117352462\n",
      "Accuracy: 0.7429766414141414\n"
     ]
    }
   ],
   "source": [
    "from sklearn.linear_model import SGDClassifier\n",
    "model = SGDClassifier()\n",
    "model.fit(X_train, y_train)\n",
    "y_pred = model.predict(X_test)\n",
    "prf = precision_recall_fscore_support(y_test, y_pred, average='macro')\n",
    "print('Precision:',prf[0])\n",
    "print('Recall:',prf[1])\n",
    "print('F-score:',prf[2])\n",
    "print('Accuracy:',model.score(X_test, y_test))"
   ]
  },
  {
   "cell_type": "markdown",
   "metadata": {},
   "source": [
    "# KNN"
   ]
  },
  {
   "cell_type": "code",
   "execution_count": 26,
   "metadata": {},
   "outputs": [
    {
     "name": "stdout",
     "output_type": "stream",
     "text": [
      "Precision: 0.7716749643384304\n",
      "Recall: 0.7715830284334122\n",
      "F-score: 0.7715307200244598\n",
      "Accuracy: 0.7715435606060606\n"
     ]
    }
   ],
   "source": [
    "from sklearn.neighbors import KNeighborsClassifier\n",
    "model = KNeighborsClassifier()\n",
    "model.fit(X_train, y_train)\n",
    "y_pred = model.predict(X_test)\n",
    "prf = precision_recall_fscore_support(y_test, y_pred, average='macro')\n",
    "print('Precision:',prf[0])\n",
    "print('Recall:',prf[1])\n",
    "print('F-score:',prf[2])\n",
    "print('Accuracy:',model.score(X_test, y_test))"
   ]
  },
  {
   "cell_type": "markdown",
   "metadata": {},
   "source": [
    "# Gradient Boosting Classifier\n",
    "GB builds an additive model in a forward stage-wise fashion; it allows for the optimization of arbitrary differentiable loss functions."
   ]
  },
  {
   "cell_type": "code",
   "execution_count": 27,
   "metadata": {},
   "outputs": [
    {
     "name": "stdout",
     "output_type": "stream",
     "text": [
      "Precision: 0.8003300572631\n",
      "Recall: 0.8002388382715164\n",
      "F-score: 0.8002449601417382\n",
      "Accuracy: 0.7715435606060606\n"
     ]
    }
   ],
   "source": [
    "from sklearn.ensemble import GradientBoostingClassifier\n",
    "clf = GradientBoostingClassifier()\n",
    "clf.fit(X_train, y_train) \n",
    "y_pred = clf.predict(X_test)\n",
    "prf = precision_recall_fscore_support(y_test, y_pred, average='macro')\n",
    "print('Precision:',prf[0])\n",
    "print('Recall:',prf[1])\n",
    "print('F-score:',prf[2])\n",
    "print('Accuracy:',model.score(X_test, y_test))"
   ]
  },
  {
   "cell_type": "markdown",
   "metadata": {},
   "source": [
    "# Decision Tree Classifier\n",
    "It is a tree-structured classifier, where internal nodes represent the features of a dataset, branches represent the decision rules and each leaf node represents the outcome."
   ]
  },
  {
   "cell_type": "code",
   "execution_count": 28,
   "metadata": {},
   "outputs": [
    {
     "name": "stdout",
     "output_type": "stream",
     "text": [
      "Precision: 0.8039524171993346\n",
      "Recall: 0.8024574335796446\n",
      "F-score: 0.8021016438643916\n",
      "Accuracy: 0.8023200757575758\n"
     ]
    }
   ],
   "source": [
    "from sklearn.tree import DecisionTreeClassifier\n",
    "model = clf = DecisionTreeClassifier()\n",
    "model.fit(X_train, y_train)\n",
    "y_pred = model.predict(X_test)\n",
    "prf = precision_recall_fscore_support(y_test, y_pred, average='macro')\n",
    "print('Precision:',prf[0])\n",
    "print('Recall:',prf[1])\n",
    "print('F-score:',prf[2])\n",
    "print('Accuracy:',model.score(X_test, y_test))"
   ]
  },
  {
   "cell_type": "markdown",
   "metadata": {},
   "source": [
    "# Results"
   ]
  },
  {
   "cell_type": "code",
   "execution_count": 29,
   "metadata": {},
   "outputs": [
    {
     "data": {
      "text/html": [
       "<div>\n",
       "<style scoped>\n",
       "    .dataframe tbody tr th:only-of-type {\n",
       "        vertical-align: middle;\n",
       "    }\n",
       "\n",
       "    .dataframe tbody tr th {\n",
       "        vertical-align: top;\n",
       "    }\n",
       "\n",
       "    .dataframe thead th {\n",
       "        text-align: right;\n",
       "    }\n",
       "</style>\n",
       "<table border=\"1\" class=\"dataframe\">\n",
       "  <thead>\n",
       "    <tr style=\"text-align: right;\">\n",
       "      <th></th>\n",
       "      <th>Precision</th>\n",
       "      <th>Recall</th>\n",
       "      <th>F-score</th>\n",
       "      <th>Accuracy</th>\n",
       "    </tr>\n",
       "  </thead>\n",
       "  <tbody>\n",
       "    <tr>\n",
       "      <th>LogisticRegression</th>\n",
       "      <td>75.72 %</td>\n",
       "      <td>74.72 %</td>\n",
       "      <td>74.59 %</td>\n",
       "      <td>74.89 %</td>\n",
       "    </tr>\n",
       "    <tr>\n",
       "      <th>SGDClassifier</th>\n",
       "      <td>75.56 %</td>\n",
       "      <td>74.16 %</td>\n",
       "      <td>73.95 %</td>\n",
       "      <td>74.37 %</td>\n",
       "    </tr>\n",
       "    <tr>\n",
       "      <th>KNeighborsClassifier</th>\n",
       "      <td>77.56 %</td>\n",
       "      <td>77.52 %</td>\n",
       "      <td>77.53 %</td>\n",
       "      <td>77.55 %</td>\n",
       "    </tr>\n",
       "    <tr>\n",
       "      <th>GradientBoostingClassifier</th>\n",
       "      <td>80.17 %</td>\n",
       "      <td>80.18 %</td>\n",
       "      <td>80.16 %</td>\n",
       "      <td>77.55 %</td>\n",
       "    </tr>\n",
       "    <tr>\n",
       "      <th>DecisionTreeClassifier</th>\n",
       "      <td>80.95 %</td>\n",
       "      <td>80.66 %</td>\n",
       "      <td>80.67 %</td>\n",
       "      <td>80.74 %</td>\n",
       "    </tr>\n",
       "  </tbody>\n",
       "</table>\n",
       "</div>"
      ],
      "text/plain": [
       "                           Precision   Recall  F-score Accuracy\n",
       "LogisticRegression           75.72 %  74.72 %  74.59 %  74.89 %\n",
       "SGDClassifier                75.56 %  74.16 %  73.95 %  74.37 %\n",
       "KNeighborsClassifier         77.56 %  77.52 %  77.53 %  77.55 %\n",
       "GradientBoostingClassifier   80.17 %  80.18 %  80.16 %  77.55 %\n",
       "DecisionTreeClassifier       80.95 %  80.66 %  80.67 %  80.74 %"
      ]
     },
     "execution_count": 29,
     "metadata": {},
     "output_type": "execute_result"
    }
   ],
   "source": [
    "data = dict()\n",
    "data['LogisticRegression'] = {\n",
    "    'Precision': 0.7571555009867676,\n",
    "    'Recall': 0.7471506650672132,\n",
    "    'F-score': 0.7459167269491838,\n",
    "    'Accuracy': 0.748895202020202\n",
    "}\n",
    "data['SGDClassifier'] = {\n",
    "    'Precision': 0.7555612962484572,\n",
    "    'Recall': 0.7416052799010007,\n",
    "    'F-score': 0.7395239055375001,\n",
    "    'Accuracy': 0.7436868686868687\n",
    "}\n",
    "data['KNeighborsClassifier'] = {\n",
    "    'Precision': 0.7756195101263659,\n",
    "    'Recall': 0.7751750775898667,\n",
    "    'F-score': 0.7752686937060835,\n",
    "    'Accuracy': 0.7754892676767676\n",
    "}\n",
    "data['GradientBoostingClassifier'] = {\n",
    "    'Precision': 0.8016864041237328,\n",
    "    'Recall': 0.8017754113401074,\n",
    "    'F-score': 0.8016030828581653,\n",
    "    'Accuracy': 0.7754892676767676\n",
    "}\n",
    "data['DecisionTreeClassifier'] = {\n",
    "    'Precision': 0.8094628368588814,\n",
    "    'Recall': 0.8065658104925675,\n",
    "    'F-score': 0.8067096495972397,\n",
    "    'Accuracy': 0.8073705808080808\n",
    "}\n",
    "round(pd.DataFrame(data).T * 100, 2).astype(str) + \" %\""
   ]
  },
  {
   "cell_type": "markdown",
   "metadata": {},
   "source": [
    "# Conclusion"
   ]
  },
  {
   "cell_type": "markdown",
   "metadata": {},
   "source": [
    "In conclusion, we can say that the use of data classification and processing models and observing the results that were made during data analysis, we were able to achieve useful ideas. They also described the stages of building a model, built a model, appreciated it. And these data were used for a random classifier of forest, hyperparameter settings, logistics regression, classifier of solutions, KNN, imbalance to obtain the desired results."
   ]
  }
 ],
 "metadata": {
  "kernelspec": {
   "display_name": "Python 3 (ipykernel)",
   "language": "python",
   "name": "python3"
  },
  "language_info": {
   "codemirror_mode": {
    "name": "ipython",
    "version": 3
   },
   "file_extension": ".py",
   "mimetype": "text/x-python",
   "name": "python",
   "nbconvert_exporter": "python",
   "pygments_lexer": "ipython3",
   "version": "3.9.12"
  }
 },
 "nbformat": 4,
 "nbformat_minor": 4
}
